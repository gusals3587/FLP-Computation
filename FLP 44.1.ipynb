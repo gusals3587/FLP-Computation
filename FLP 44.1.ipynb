{
 "cells": [
  {
   "attachments": {},
   "cell_type": "markdown",
   "id": "da9fd3f6",
   "metadata": {},
   "source": [
    "finished date: 2023.02.11\n",
    "\n",
    "first attempt  \n",
    "initially tried to compute the average using integration, realized that I run into divergence problem\n",
    "\n",
    "second attempt  \n",
    "monte carlo integration, worked well enough that I decided this is good enough for now"
   ]
  },
  {
   "cell_type": "code",
   "execution_count": 2,
   "id": "dc63cf3b-ec97-4f99-97e8-3916ab63f439",
   "metadata": {},
   "outputs": [],
   "source": [
    "import scipy as sp\n",
    "import numpy as np\n",
    "from scipy import integrate"
   ]
  },
  {
   "cell_type": "code",
   "execution_count": 11,
   "id": "ec384a4b",
   "metadata": {},
   "outputs": [],
   "source": [
    "R = 10.0\n",
    "num_samples = int(1E4)\n",
    "r = np.linspace(0.0, R, num_samples)\n",
    "theta = np.linspace(0.0, sp.pi, num_samples)\n",
    "phi = np.linspace(0.0, 2*sp.pi, num_samples)"
   ]
  },
  {
   "cell_type": "code",
   "execution_count": 12,
   "id": "fcd0bb32",
   "metadata": {},
   "outputs": [],
   "source": [
    "def p(radius, angle_1, angle_2):\n",
    "    return r**2 * sp.sin(angle_1)"
   ]
  },
  {
   "cell_type": "code",
   "execution_count": 1,
   "id": "92f45ee5",
   "metadata": {},
   "outputs": [],
   "source": [
    "def spher_to_cart(r, theta, phi):\n",
    "    x = r * sp.sin(theta) * sp.cos(phi)\n",
    "    y = r * sp.sin(theta) * sp.sin(phi)\n",
    "    z = r * sp.cos(theta)\n",
    "    return [x,y,z]"
   ]
  },
  {
   "cell_type": "code",
   "execution_count": 2,
   "id": "d703a395",
   "metadata": {},
   "outputs": [],
   "source": [
    "def distance_between_two_spherical_points(r_1, theta_1, phi_1, r_2, theta_2, phi_2):\n",
    "    x_1, y_1, z_1 = spher_to_cart(r_1, theta_1, phi_1)\n",
    "    x_2, y_2, z_2 = spher_to_cart(r_2, theta_2, phi_2)\n",
    "    return sp.sqrt((x_1 - x_2)**2 + (y_1 - y_2)**2 + (z_1 - z_2)**2)"
   ]
  },
  {
   "cell_type": "code",
   "execution_count": 3,
   "id": "88e1257a",
   "metadata": {},
   "outputs": [],
   "source": [
    "def probability_density_uniform_spher(r_1, theta_1, phi_1, r_2, theta_2, phi_2):\n",
    "    return r_1**2 * sp.sin(theta_1) * r_2**2 * sp.sin(theta_2)"
   ]
  },
  {
   "cell_type": "code",
   "execution_count": 4,
   "id": "88b65e37",
   "metadata": {},
   "outputs": [],
   "source": [
    "def potential_weighted(r_1, theta_1, phi_1, r_2, theta_2, phi_2):\n",
    "    return probability_density_uniform_spher(r_1, theta_1, phi_1, r_2, theta_2, phi_2) * (1/distance_between_two_spherical_points(r_1, theta_1, phi_1, r_2, theta_2, phi_2))"
   ]
  },
  {
   "cell_type": "code",
   "execution_count": 6,
   "id": "8e46ff1e",
   "metadata": {},
   "outputs": [
    {
     "name": "stderr",
     "output_type": "stream",
     "text": [
      "/var/folders/r6/dm5jwjfs0fz2920832swzf8h0000gn/T/ipykernel_51965/1777660724.py:2: DeprecationWarning: scipy.sin is deprecated and will be removed in SciPy 2.0.0, use numpy.sin instead\n",
      "  r_1**2 * sp.sin(theta_1) * r_2**2 * sp.sin(theta_2)\n",
      "/var/folders/r6/dm5jwjfs0fz2920832swzf8h0000gn/T/ipykernel_51965/1285322966.py:2: DeprecationWarning: scipy.cos is deprecated and will be removed in SciPy 2.0.0, use numpy.cos instead\n",
      "  x = r * sp.sin(theta) * sp.cos(phi)\n",
      "/var/folders/r6/dm5jwjfs0fz2920832swzf8h0000gn/T/ipykernel_51965/1285322966.py:3: DeprecationWarning: scipy.sin is deprecated and will be removed in SciPy 2.0.0, use numpy.sin instead\n",
      "  y = r * sp.sin(theta) * sp.sin(phi)\n",
      "/var/folders/r6/dm5jwjfs0fz2920832swzf8h0000gn/T/ipykernel_51965/1285322966.py:4: DeprecationWarning: scipy.cos is deprecated and will be removed in SciPy 2.0.0, use numpy.cos instead\n",
      "  z = r * sp.cos(theta)\n",
      "/var/folders/r6/dm5jwjfs0fz2920832swzf8h0000gn/T/ipykernel_51965/2523785570.py:4: DeprecationWarning: scipy.sqrt is deprecated and will be removed in SciPy 2.0.0, use numpy.lib.scimath.sqrt instead\n",
      "  return sp.sqrt((x_1 - x_2)**2 + (y_1 - y_2)**2 + (z_1 - z_2)**2)\n",
      "/var/folders/r6/dm5jwjfs0fz2920832swzf8h0000gn/T/ipykernel_51965/2467039419.py:2: RuntimeWarning: divide by zero encountered in scalar divide\n",
      "  return probability_density_uniform_spher(r_1, theta_1, phi_1, r_2, theta_2, phi_2) * (1/distance_between_two_spherical_points(r_1, theta_1, phi_1, r_2, theta_2, phi_2))\n"
     ]
    },
    {
     "ename": "TypeError",
     "evalue": "unsupported operand type(s) for *: 'NoneType' and 'float'",
     "output_type": "error",
     "traceback": [
      "\u001b[0;31m---------------------------------------------------------------------------\u001b[0m",
      "\u001b[0;31mTypeError\u001b[0m                                 Traceback (most recent call last)",
      "Cell \u001b[0;32mIn[6], line 1\u001b[0m\n\u001b[0;32m----> 1\u001b[0m integrate\u001b[39m.\u001b[39;49mnquad(potential_weighted, [[\u001b[39m0\u001b[39;49m, \u001b[39m1\u001b[39;49m], [\u001b[39m0\u001b[39;49m, sp\u001b[39m.\u001b[39;49mpi], [\u001b[39m0\u001b[39;49m, \u001b[39m2\u001b[39;49m\u001b[39m*\u001b[39;49msp\u001b[39m.\u001b[39;49mpi], [\u001b[39m0\u001b[39;49m, \u001b[39m1\u001b[39;49m], [\u001b[39m0\u001b[39;49m,sp\u001b[39m.\u001b[39;49mpi], [\u001b[39m0\u001b[39;49m, \u001b[39m2\u001b[39;49m\u001b[39m*\u001b[39;49msp\u001b[39m.\u001b[39;49mpi]])\n",
      "File \u001b[0;32m/usr/local/lib/python3.11/site-packages/scipy/integrate/_quadpack_py.py:1171\u001b[0m, in \u001b[0;36mnquad\u001b[0;34m(func, ranges, args, opts, full_output)\u001b[0m\n\u001b[1;32m   1169\u001b[0m \u001b[39melse\u001b[39;00m:\n\u001b[1;32m   1170\u001b[0m     opts \u001b[39m=\u001b[39m [opt \u001b[39mif\u001b[39;00m callable(opt) \u001b[39melse\u001b[39;00m _OptFunc(opt) \u001b[39mfor\u001b[39;00m opt \u001b[39min\u001b[39;00m opts]\n\u001b[0;32m-> 1171\u001b[0m \u001b[39mreturn\u001b[39;00m _NQuad(func, ranges, opts, full_output)\u001b[39m.\u001b[39;49mintegrate(\u001b[39m*\u001b[39;49margs)\n",
      "File \u001b[0;32m/usr/local/lib/python3.11/site-packages/scipy/integrate/_quadpack_py.py:1225\u001b[0m, in \u001b[0;36m_NQuad.integrate\u001b[0;34m(self, *args, **kwargs)\u001b[0m\n\u001b[1;32m   1223\u001b[0m \u001b[39melse\u001b[39;00m:\n\u001b[1;32m   1224\u001b[0m     f \u001b[39m=\u001b[39m partial(\u001b[39mself\u001b[39m\u001b[39m.\u001b[39mintegrate, depth\u001b[39m=\u001b[39mdepth\u001b[39m+\u001b[39m\u001b[39m1\u001b[39m)\n\u001b[0;32m-> 1225\u001b[0m quad_r \u001b[39m=\u001b[39m quad(f, low, high, args\u001b[39m=\u001b[39;49margs, full_output\u001b[39m=\u001b[39;49m\u001b[39mself\u001b[39;49m\u001b[39m.\u001b[39;49mfull_output,\n\u001b[1;32m   1226\u001b[0m               \u001b[39m*\u001b[39;49m\u001b[39m*\u001b[39;49mopt)\n\u001b[1;32m   1227\u001b[0m value \u001b[39m=\u001b[39m quad_r[\u001b[39m0\u001b[39m]\n\u001b[1;32m   1228\u001b[0m abserr \u001b[39m=\u001b[39m quad_r[\u001b[39m1\u001b[39m]\n",
      "File \u001b[0;32m/usr/local/lib/python3.11/site-packages/scipy/integrate/_quadpack_py.py:463\u001b[0m, in \u001b[0;36mquad\u001b[0;34m(func, a, b, args, full_output, epsabs, epsrel, limit, points, weight, wvar, wopts, maxp1, limlst, complex_func)\u001b[0m\n\u001b[1;32m    460\u001b[0m     \u001b[39mreturn\u001b[39;00m retval\n\u001b[1;32m    462\u001b[0m \u001b[39mif\u001b[39;00m weight \u001b[39mis\u001b[39;00m \u001b[39mNone\u001b[39;00m:\n\u001b[0;32m--> 463\u001b[0m     retval \u001b[39m=\u001b[39m _quad(func, a, b, args, full_output, epsabs, epsrel, limit,\n\u001b[1;32m    464\u001b[0m                    points)\n\u001b[1;32m    465\u001b[0m \u001b[39melse\u001b[39;00m:\n\u001b[1;32m    466\u001b[0m     \u001b[39mif\u001b[39;00m points \u001b[39mis\u001b[39;00m \u001b[39mnot\u001b[39;00m \u001b[39mNone\u001b[39;00m:\n",
      "File \u001b[0;32m/usr/local/lib/python3.11/site-packages/scipy/integrate/_quadpack_py.py:575\u001b[0m, in \u001b[0;36m_quad\u001b[0;34m(func, a, b, args, full_output, epsabs, epsrel, limit, points)\u001b[0m\n\u001b[1;32m    573\u001b[0m \u001b[39mif\u001b[39;00m points \u001b[39mis\u001b[39;00m \u001b[39mNone\u001b[39;00m:\n\u001b[1;32m    574\u001b[0m     \u001b[39mif\u001b[39;00m infbounds \u001b[39m==\u001b[39m \u001b[39m0\u001b[39m:\n\u001b[0;32m--> 575\u001b[0m         \u001b[39mreturn\u001b[39;00m _quadpack\u001b[39m.\u001b[39;49m_qagse(func,a,b,args,full_output,epsabs,epsrel,limit)\n\u001b[1;32m    576\u001b[0m     \u001b[39melse\u001b[39;00m:\n\u001b[1;32m    577\u001b[0m         \u001b[39mreturn\u001b[39;00m _quadpack\u001b[39m.\u001b[39m_qagie(func,bound,infbounds,args,full_output,epsabs,epsrel,limit)\n",
      "File \u001b[0;32m/usr/local/lib/python3.11/site-packages/scipy/integrate/_quadpack_py.py:1225\u001b[0m, in \u001b[0;36m_NQuad.integrate\u001b[0;34m(self, *args, **kwargs)\u001b[0m\n\u001b[1;32m   1223\u001b[0m \u001b[39melse\u001b[39;00m:\n\u001b[1;32m   1224\u001b[0m     f \u001b[39m=\u001b[39m partial(\u001b[39mself\u001b[39m\u001b[39m.\u001b[39mintegrate, depth\u001b[39m=\u001b[39mdepth\u001b[39m+\u001b[39m\u001b[39m1\u001b[39m)\n\u001b[0;32m-> 1225\u001b[0m quad_r \u001b[39m=\u001b[39m quad(f, low, high, args\u001b[39m=\u001b[39;49margs, full_output\u001b[39m=\u001b[39;49m\u001b[39mself\u001b[39;49m\u001b[39m.\u001b[39;49mfull_output,\n\u001b[1;32m   1226\u001b[0m               \u001b[39m*\u001b[39;49m\u001b[39m*\u001b[39;49mopt)\n\u001b[1;32m   1227\u001b[0m value \u001b[39m=\u001b[39m quad_r[\u001b[39m0\u001b[39m]\n\u001b[1;32m   1228\u001b[0m abserr \u001b[39m=\u001b[39m quad_r[\u001b[39m1\u001b[39m]\n",
      "File \u001b[0;32m/usr/local/lib/python3.11/site-packages/scipy/integrate/_quadpack_py.py:463\u001b[0m, in \u001b[0;36mquad\u001b[0;34m(func, a, b, args, full_output, epsabs, epsrel, limit, points, weight, wvar, wopts, maxp1, limlst, complex_func)\u001b[0m\n\u001b[1;32m    460\u001b[0m     \u001b[39mreturn\u001b[39;00m retval\n\u001b[1;32m    462\u001b[0m \u001b[39mif\u001b[39;00m weight \u001b[39mis\u001b[39;00m \u001b[39mNone\u001b[39;00m:\n\u001b[0;32m--> 463\u001b[0m     retval \u001b[39m=\u001b[39m _quad(func, a, b, args, full_output, epsabs, epsrel, limit,\n\u001b[1;32m    464\u001b[0m                    points)\n\u001b[1;32m    465\u001b[0m \u001b[39melse\u001b[39;00m:\n\u001b[1;32m    466\u001b[0m     \u001b[39mif\u001b[39;00m points \u001b[39mis\u001b[39;00m \u001b[39mnot\u001b[39;00m \u001b[39mNone\u001b[39;00m:\n",
      "File \u001b[0;32m/usr/local/lib/python3.11/site-packages/scipy/integrate/_quadpack_py.py:575\u001b[0m, in \u001b[0;36m_quad\u001b[0;34m(func, a, b, args, full_output, epsabs, epsrel, limit, points)\u001b[0m\n\u001b[1;32m    573\u001b[0m \u001b[39mif\u001b[39;00m points \u001b[39mis\u001b[39;00m \u001b[39mNone\u001b[39;00m:\n\u001b[1;32m    574\u001b[0m     \u001b[39mif\u001b[39;00m infbounds \u001b[39m==\u001b[39m \u001b[39m0\u001b[39m:\n\u001b[0;32m--> 575\u001b[0m         \u001b[39mreturn\u001b[39;00m _quadpack\u001b[39m.\u001b[39;49m_qagse(func,a,b,args,full_output,epsabs,epsrel,limit)\n\u001b[1;32m    576\u001b[0m     \u001b[39melse\u001b[39;00m:\n\u001b[1;32m    577\u001b[0m         \u001b[39mreturn\u001b[39;00m _quadpack\u001b[39m.\u001b[39m_qagie(func,bound,infbounds,args,full_output,epsabs,epsrel,limit)\n",
      "    \u001b[0;31m[... skipping similar frames: _quad at line 575 (3 times), _NQuad.integrate at line 1225 (3 times), quad at line 463 (3 times)]\u001b[0m\n",
      "File \u001b[0;32m/usr/local/lib/python3.11/site-packages/scipy/integrate/_quadpack_py.py:1225\u001b[0m, in \u001b[0;36m_NQuad.integrate\u001b[0;34m(self, *args, **kwargs)\u001b[0m\n\u001b[1;32m   1223\u001b[0m \u001b[39melse\u001b[39;00m:\n\u001b[1;32m   1224\u001b[0m     f \u001b[39m=\u001b[39m partial(\u001b[39mself\u001b[39m\u001b[39m.\u001b[39mintegrate, depth\u001b[39m=\u001b[39mdepth\u001b[39m+\u001b[39m\u001b[39m1\u001b[39m)\n\u001b[0;32m-> 1225\u001b[0m quad_r \u001b[39m=\u001b[39m quad(f, low, high, args\u001b[39m=\u001b[39;49margs, full_output\u001b[39m=\u001b[39;49m\u001b[39mself\u001b[39;49m\u001b[39m.\u001b[39;49mfull_output,\n\u001b[1;32m   1226\u001b[0m               \u001b[39m*\u001b[39;49m\u001b[39m*\u001b[39;49mopt)\n\u001b[1;32m   1227\u001b[0m value \u001b[39m=\u001b[39m quad_r[\u001b[39m0\u001b[39m]\n\u001b[1;32m   1228\u001b[0m abserr \u001b[39m=\u001b[39m quad_r[\u001b[39m1\u001b[39m]\n",
      "File \u001b[0;32m/usr/local/lib/python3.11/site-packages/scipy/integrate/_quadpack_py.py:463\u001b[0m, in \u001b[0;36mquad\u001b[0;34m(func, a, b, args, full_output, epsabs, epsrel, limit, points, weight, wvar, wopts, maxp1, limlst, complex_func)\u001b[0m\n\u001b[1;32m    460\u001b[0m     \u001b[39mreturn\u001b[39;00m retval\n\u001b[1;32m    462\u001b[0m \u001b[39mif\u001b[39;00m weight \u001b[39mis\u001b[39;00m \u001b[39mNone\u001b[39;00m:\n\u001b[0;32m--> 463\u001b[0m     retval \u001b[39m=\u001b[39m _quad(func, a, b, args, full_output, epsabs, epsrel, limit,\n\u001b[1;32m    464\u001b[0m                    points)\n\u001b[1;32m    465\u001b[0m \u001b[39melse\u001b[39;00m:\n\u001b[1;32m    466\u001b[0m     \u001b[39mif\u001b[39;00m points \u001b[39mis\u001b[39;00m \u001b[39mnot\u001b[39;00m \u001b[39mNone\u001b[39;00m:\n",
      "File \u001b[0;32m/usr/local/lib/python3.11/site-packages/scipy/integrate/_quadpack_py.py:575\u001b[0m, in \u001b[0;36m_quad\u001b[0;34m(func, a, b, args, full_output, epsabs, epsrel, limit, points)\u001b[0m\n\u001b[1;32m    573\u001b[0m \u001b[39mif\u001b[39;00m points \u001b[39mis\u001b[39;00m \u001b[39mNone\u001b[39;00m:\n\u001b[1;32m    574\u001b[0m     \u001b[39mif\u001b[39;00m infbounds \u001b[39m==\u001b[39m \u001b[39m0\u001b[39m:\n\u001b[0;32m--> 575\u001b[0m         \u001b[39mreturn\u001b[39;00m _quadpack\u001b[39m.\u001b[39;49m_qagse(func,a,b,args,full_output,epsabs,epsrel,limit)\n\u001b[1;32m    576\u001b[0m     \u001b[39melse\u001b[39;00m:\n\u001b[1;32m    577\u001b[0m         \u001b[39mreturn\u001b[39;00m _quadpack\u001b[39m.\u001b[39m_qagie(func,bound,infbounds,args,full_output,epsabs,epsrel,limit)\n",
      "Cell \u001b[0;32mIn[4], line 2\u001b[0m, in \u001b[0;36mpotential_weighted\u001b[0;34m(r_1, theta_1, phi_1, r_2, theta_2, phi_2)\u001b[0m\n\u001b[1;32m      1\u001b[0m \u001b[39mdef\u001b[39;00m \u001b[39mpotential_weighted\u001b[39m(r_1, theta_1, phi_1, r_2, theta_2, phi_2):\n\u001b[0;32m----> 2\u001b[0m     \u001b[39mreturn\u001b[39;00m probability_density_uniform_spher(r_1, theta_1, phi_1, r_2, theta_2, phi_2) \u001b[39m*\u001b[39;49m (\u001b[39m1\u001b[39;49m\u001b[39m/\u001b[39;49mdistance_between_two_spherical_points(r_1, theta_1, phi_1, r_2, theta_2, phi_2))\n",
      "\u001b[0;31mTypeError\u001b[0m: unsupported operand type(s) for *: 'NoneType' and 'float'"
     ]
    }
   ],
   "source": [
    "integrate.nquad(potential_weighted, [[0, 1], [0, sp.pi], [0, 2*sp.pi], [0, 1], [0,sp.pi], [0, 2*sp.pi]])"
   ]
  },
  {
   "cell_type": "code",
   "execution_count": 3,
   "id": "addb6ecc",
   "metadata": {},
   "outputs": [],
   "source": [
    "import math\n",
    "import random\n",
    "import mcint"
   ]
  },
  {
   "cell_type": "code",
   "execution_count": 28,
   "id": "ab9a88af",
   "metadata": {},
   "outputs": [],
   "source": [
    "\"\"\"\n",
    "the integrand and the sampler for two points uniformly distributed inside a unit sphere\n",
    "expected value is 6/5 from expected value 6/(5*a) * 1/2 * Z * (Z-1)\n",
    "Z: num of points\n",
    "a: radius of the sphere\n",
    "with Z = 2, a = 1\n",
    "\"\"\"\n",
    "def integrand_two_points(x):\n",
    "    x_1 = x[0]\n",
    "    x_2 = x[1]\n",
    "    dist = np.linalg.norm(x_1 - x_2)\n",
    "    return 1/dist\n",
    "\n",
    "def sampler_two_points():\n",
    "    while True:\n",
    "        # two 3d random vector in with each xyz component in [-1, 1)\n",
    "        x_1 = 2*np.random.rand(3)-1\n",
    "        x_2 = 2*np.random.rand(3)-1\n",
    "        x_1_norm = np.linalg.norm(x_1)\n",
    "        x_2_norm = np.linalg.norm(x_2)\n",
    "        if x_1_norm < 1 and x_2_norm < 1:\n",
    "            yield(x_1, x_2)\n"
   ]
  },
  {
   "cell_type": "code",
   "execution_count": 29,
   "id": "c45755f4",
   "metadata": {},
   "outputs": [],
   "source": [
    "result_two_points, error_two_points = mcint.integrate(integrand_two_points,sampler_two_points(),n=100000)"
   ]
  },
  {
   "cell_type": "code",
   "execution_count": 30,
   "id": "559c1841",
   "metadata": {},
   "outputs": [
    {
     "data": {
      "text/plain": [
       "1.1996567905111803"
      ]
     },
     "execution_count": 30,
     "metadata": {},
     "output_type": "execute_result"
    }
   ],
   "source": [
    "result_two_points"
   ]
  },
  {
   "cell_type": "code",
   "execution_count": 31,
   "id": "cff379af",
   "metadata": {},
   "outputs": [
    {
     "data": {
      "text/plain": [
       "0.004637706304601202"
      ]
     },
     "execution_count": 31,
     "metadata": {},
     "output_type": "execute_result"
    }
   ],
   "source": [
    "error_two_points"
   ]
  },
  {
   "cell_type": "code",
   "execution_count": 41,
   "id": "1692655b",
   "metadata": {},
   "outputs": [],
   "source": [
    "\"\"\"\n",
    "the integrand and the sampler for three points uniformly distributed inside a sphere\n",
    "\"\"\"\n",
    "def integrand_three_points(x):\n",
    "    # huh... I guess the factor Z*(Z-1) comes directly from the number of distances you have to compute for a given configuration\n",
    "    x_1 = x[0]\n",
    "    x_2 = x[1]\n",
    "    x_3 = x[2]\n",
    "    dist_1 = np.linalg.norm(x_1 - x_2)\n",
    "    dist_2 = np.linalg.norm(x_2 - x_3)\n",
    "    dist_3 = np.linalg.norm(x_1 - x_3)\n",
    "    return 1/dist_1 + 1/dist_2 + 1/dist_3\n",
    "\n",
    "def sampler_three_points():\n",
    "    while True:\n",
    "        # three 3d random vector in with each xyz component in [-1, 1)\n",
    "        x_1 = 2*np.random.rand(3)-1\n",
    "        x_2 = 2*np.random.rand(3)-1\n",
    "        x_3 = 2*np.random.rand(3)-1\n",
    "        x_1_norm = np.linalg.norm(x_1)\n",
    "        x_2_norm = np.linalg.norm(x_2)\n",
    "        x_3_norm = np.linalg.norm(x_3)\n",
    "        if x_1_norm < 1 and x_2_norm < 1 and x_3_norm < 1:\n",
    "            yield(x_1, x_2, x_3)\n"
   ]
  },
  {
   "cell_type": "code",
   "execution_count": 42,
   "id": "bc370185",
   "metadata": {},
   "outputs": [],
   "source": [
    "result_three_points, error_three_points = mcint.integrate(integrand_three_points, sampler_three_points(), n=100000)"
   ]
  },
  {
   "cell_type": "code",
   "execution_count": 43,
   "id": "d7acb710",
   "metadata": {},
   "outputs": [
    {
     "data": {
      "text/plain": [
       "3.5979638266947034"
      ]
     },
     "execution_count": 43,
     "metadata": {},
     "output_type": "execute_result"
    }
   ],
   "source": [
    "result_three_points"
   ]
  },
  {
   "cell_type": "code",
   "execution_count": 44,
   "id": "6971f42a",
   "metadata": {},
   "outputs": [
    {
     "data": {
      "text/plain": [
       "0.004685685177240609"
      ]
     },
     "execution_count": 44,
     "metadata": {},
     "output_type": "execute_result"
    }
   ],
   "source": [
    "error"
   ]
  },
  {
   "cell_type": "code",
   "execution_count": null,
   "id": "912fa369",
   "metadata": {},
   "outputs": [],
   "source": []
  }
 ],
 "metadata": {
  "kernelspec": {
   "display_name": "Python 3 (ipykernel)",
   "language": "python",
   "name": "python3"
  },
  "language_info": {
   "codemirror_mode": {
    "name": "ipython",
    "version": 3
   },
   "file_extension": ".py",
   "mimetype": "text/x-python",
   "name": "python",
   "nbconvert_exporter": "python",
   "pygments_lexer": "ipython3",
   "version": "3.10.10"
  }
 },
 "nbformat": 4,
 "nbformat_minor": 5
}
