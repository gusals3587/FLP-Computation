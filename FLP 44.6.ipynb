{
 "cells": [
  {
   "cell_type": "code",
   "execution_count": 1,
   "id": "8ebb15d0-d9a0-4013-87a1-8d78efcec88b",
   "metadata": {
    "tags": []
   },
   "outputs": [
    {
     "name": "stdout",
     "output_type": "stream",
     "text": [
      "Estimated expectation value of 1/r: 1.1997075550333287\n"
     ]
    }
   ],
   "source": [
    "import numpy as np\n",
    "\n",
    "def random_point_in_sphere():\n",
    "    # Generate a random point inside a unit sphere\n",
    "    while True:\n",
    "        p = np.random.uniform(-1, 1, size=3)\n",
    "        if np.linalg.norm(p) = 1:\n",
    "            return p\n",
    "\n",
    "def monte_carlo_estimate(n_samples):\n",
    "    # Estimate the expectation value of 1/r using Monte Carlo sampling\n",
    "    total = 0\n",
    "    for _ in range(n_samples):\n",
    "        p1 = random_point_in_sphere()\n",
    "        p2 = random_point_in_sphere()\n",
    "        r = np.linalg.norm(p1 - p2)\n",
    "        total += 1/r\n",
    "    return total / n_samples\n",
    "\n",
    "n_samples = 1000000  # Number of samples to use for the estimate\n",
    "print(f\"Estimated expectation value of 1/r: {monte_carlo_estimate(n_samples)}\")"
   ]
  },
  {
   "cell_type": "code",
   "execution_count": 2,
   "id": "618d9b12-8296-4d01-8f31-ab26c5a5ae84",
   "metadata": {
    "tags": []
   },
   "outputs": [
    {
     "name": "stdout",
     "output_type": "stream",
     "text": [
      "Estimated expectation value of 1/r: 1.000196348614942\n"
     ]
    }
   ],
   "source": [
    "def random_point_on_sphere():\n",
    "    # Generate a random point on the surface of a unit sphere\n",
    "    theta = 2 * np.pi * np.random.uniform(0, 1)  # azimuthal angle\n",
    "    phi = np.arccos(2 * np.random.uniform(0, 1) - 1)  # polar angle\n",
    "    x = np.sin(phi) * np.cos(theta)\n",
    "    y = np.sin(phi) * np.sin(theta)\n",
    "    z = np.cos(phi)\n",
    "    return np.array([x, y, z])\n",
    "\n",
    "def monte_carlo_estimate(n_samples):\n",
    "    # Estimate the expectation value of 1/r using Monte Carlo sampling\n",
    "    total = 0\n",
    "    for _ in range(n_samples):\n",
    "        p1 = random_point_on_sphere()\n",
    "        p2 = random_point_on_sphere()\n",
    "        r = np.linalg.norm(p1 - p2)\n",
    "        total += 1/r\n",
    "    return total / n_samples\n",
    "\n",
    "n_samples = 1000000  # Number of samples to use for the estimate\n",
    "print(f\"Estimated expectation value of 1/r: {monte_carlo_estimate(n_samples)}\")"
   ]
  },
  {
   "cell_type": "code",
   "execution_count": null,
   "id": "89617377-375c-4a35-8876-b5291d64dd37",
   "metadata": {},
   "outputs": [],
   "source": []
  }
 ],
 "metadata": {
  "kernelspec": {
   "display_name": "Python 3 (ipykernel)",
   "language": "python",
   "name": "python3"
  },
  "language_info": {
   "codemirror_mode": {
    "name": "ipython",
    "version": 3
   },
   "file_extension": ".py",
   "mimetype": "text/x-python",
   "name": "python",
   "nbconvert_exporter": "python",
   "pygments_lexer": "ipython3",
   "version": "3.11.3"
  }
 },
 "nbformat": 4,
 "nbformat_minor": 5
}
